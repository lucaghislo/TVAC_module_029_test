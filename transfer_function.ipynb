{
 "cells": [
  {
   "cell_type": "code",
   "execution_count": 2,
   "metadata": {},
   "outputs": [],
   "source": [
    "import pandas as pd\n",
    "import numpy as np\n",
    "import matplotlib.pyplot as plt\n",
    "from os.path import join\n",
    "import matplotlib\n",
    "\n",
    "from write_read_cache import store_data, read_data\n",
    "from read_events import read_events, get_events\n",
    "\n",
    "cache_folder = \"cache/transfer_function\""
   ]
  },
  {
   "cell_type": "code",
   "execution_count": 4,
   "metadata": {},
   "outputs": [],
   "source": [
    "# Return raw data from transfer function file\n",
    "def read_transfer_function(filepath):\n",
    "    fdt_data = pd.read_csv(filepath, sep=\"\\t\", comment=\"#\")\n",
    "    return fdt_data\n",
    "\n",
    "\n",
    "# Get fdt data from raw fdt data file\n",
    "def get_fdt(fdt_data, ch, pt):\n",
    "    dac_inj_list = np.unique(fdt_data.iloc[:, 1].to_numpy())\n",
    "\n",
    "    dac_inj_all = []\n",
    "    fdt_out_all = []\n",
    "    for dac_inj in dac_inj_list:\n",
    "        fdt_data_subset = fdt_data[\n",
    "            (fdt_data.iloc[:, 1] == dac_inj) & (fdt_data.iloc[:, 3] == ch)\n",
    "        ]\n",
    "        dac_inj_all.append(dac_inj)\n",
    "        fdt_out_all.append(np.mean(fdt_data_subset.iloc[:, 4]))\n",
    "\n",
    "    return dac_inj_all, fdt_out_all\n"
   ]
  },
  {
   "cell_type": "code",
   "execution_count": 16,
   "metadata": {},
   "outputs": [],
   "source": [
    "# Import transfer function data\n",
    "fdt_m55_3mbar = read_transfer_function(\n",
    "    r\"C:\\Users\\ghisl\\Google Drive UniBG\\UniBG\\CORSI\\PhD\\GAPS\\INFN_Napoli\\TVAC_test\\GAPS_Test_CIRA\\MODULE029_fast\\21_02_2023\\2_auto_-55C_3mbar\\data\\TransferFunction_fast_tau5.dat\"\n",
    ")\n",
    "store_data(fdt_m55_3mbar, \"fdt_m55_3mbar\", cache_folder)\n",
    "\n",
    "fdt_m55_amb = read_transfer_function(\n",
    "    r\"C:\\Users\\ghisl\\Google Drive UniBG\\UniBG\\CORSI\\PhD\\GAPS\\INFN_Napoli\\TVAC_test\\test_before\\module_029_MIT_before_tvac\\2022-09-16\\autoRun3_-55C_ISA011_TBBB0110_HRRR0011\\data\\TransferFunction_fast_tau5.dat\"\n",
    ")\n",
    "store_data(fdt_m55_amb, \"fdt_m55_amb\", cache_folder)\n",
    "\n",
    "fdt_m37_amb = read_transfer_function(\n",
    "    r\"C:\\Users\\ghisl\\Google Drive UniBG\\UniBG\\CORSI\\PhD\\GAPS\\INFN_Napoli\\TVAC_test\\test_before\\module_029_MIT_before_tvac\\2022-09-16\\autoRun1_-37C_ISA011_TBBB0110_HRRR0011\\data\\TransferFunction_fast_tau5.dat\"\n",
    ")\n",
    "store_data(fdt_m37_amb, \"fdt_m37_amb\", cache_folder)\n"
   ]
  },
  {
   "cell_type": "code",
   "execution_count": 5,
   "metadata": {},
   "outputs": [],
   "source": [
    "# Get module temperature in Celsius\n",
    "def get_temperature(temp_code):\n",
    "    V_T = 0.9 * 1000 - (temp_code - 1024) * 1.72 / (3.87)\n",
    "    T = 30 + (5.506 - np.sqrt((-5.506) ** 2 + 4 * 0.00172 * (870.6 - V_T))) / (\n",
    "        2 * (-0.00172)\n",
    "    )\n",
    "    return [np.round(T, 1)]\n",
    "\n",
    "\n",
    "# Get real asic temperature\n",
    "def get_temperature_file(filepath):\n",
    "    temp_raw = pd.read_csv(\n",
    "        filepath,\n",
    "        comment=\"#\",\n",
    "        sep=\"\\t\",\n",
    "        header=None,\n",
    "    )\n",
    "    temp_celsius = get_temperature(np.mean(temp_raw.iloc[:, 1]))[0]\n",
    "\n",
    "    return temp_celsius\n"
   ]
  },
  {
   "cell_type": "code",
   "execution_count": 8,
   "metadata": {},
   "outputs": [
    {
     "name": "stdout",
     "output_type": "stream",
     "text": [
      "-44.7\n",
      "-52.9\n",
      "-36.6\n"
     ]
    }
   ],
   "source": [
    "# Transfer function at -55 C and 3 mBar\n",
    "\n",
    "fdt_m55_3mbar = read_data(\"fdt_m55_3mbar\", cache_folder)\n",
    "fdt_m55_amb = read_data(\"fdt_m55_amb\", cache_folder)\n",
    "fdt_m37_amb = read_data(\"fdt_m37_amb\", cache_folder)\n",
    "\n",
    "# Get real temperature from board\n",
    "temp_m55_3mbar = get_temperature_file(\n",
    "    r\"C:\\Users\\ghisl\\Google Drive UniBG\\UniBG\\CORSI\\PhD\\GAPS\\INFN_Napoli\\TVAC_test\\GAPS_Test_CIRA\\MODULE029_fast\\21_02_2023\\2_auto_-55C_3mbar\\data\\HK_Temperature.dat\"\n",
    ")\n",
    "temp_m55_amb = get_temperature_file(\n",
    "    r\"C:\\Users\\ghisl\\Google Drive UniBG\\UniBG\\CORSI\\PhD\\GAPS\\INFN_Napoli\\TVAC_test\\test_before\\module_029_MIT_before_tvac\\2022-09-16\\autoRun3_-55C_ISA011_TBBB0110_HRRR0011\\data\\HK_Temperature.dat\"\n",
    ")\n",
    "\n",
    "temp_m37_amb = get_temperature_file(\n",
    "    r\"C:\\Users\\ghisl\\Google Drive UniBG\\UniBG\\CORSI\\PhD\\GAPS\\INFN_Napoli\\TVAC_test\\test_before\\module_029_MIT_before_tvac\\2022-09-16\\autoRun1_-37C_ISA011_TBBB0110_HRRR0011\\data\\HK_Temperature.dat\"\n",
    ")\n",
    "\n",
    "print(temp_m55_3mbar)\n",
    "print(temp_m55_amb)\n",
    "print(temp_m37_amb)\n",
    "\n",
    "channels = range(0, 32)\n",
    "matplotlib.rcParams[\"figure.figsize\"] = [8 * 3, 6 * 3]\n",
    "\n",
    "plt.clf()\n",
    "for ch in channels:\n",
    "    plt.subplot(4, 8, ch + 1)\n",
    "    dac_inj, fdt_out = get_fdt(\n",
    "        fdt_m55_3mbar,\n",
    "        ch,\n",
    "        5,\n",
    "    )\n",
    "    plt.plot(dac_inj, fdt_out, color=\"blue\", label=\"3 mBar (-44.7 °C)\")\n",
    "\n",
    "    dac_inj, fdt_out = get_fdt(\n",
    "        fdt_m55_amb,\n",
    "        ch,\n",
    "        5,\n",
    "    )\n",
    "    plt.plot(dac_inj, fdt_out, color=\"red\", label=\"ambient (-52.9 °C)\")\n",
    "\n",
    "    dac_inj, fdt_out = get_fdt(\n",
    "        fdt_m37_amb,\n",
    "        ch,\n",
    "        5,\n",
    "    )\n",
    "    plt.plot(dac_inj, fdt_out, color=\"green\", label=\"ambient (-36.6 °C)\")\n",
    "\n",
    "    plt.legend(fontsize=8)\n",
    "    plt.xlabel(\"Energy [ADU]\")\n",
    "    # plt.xscale(\"log\")\n",
    "    # plt.yscale(\"log\")\n",
    "\n",
    "plt.show()\n"
   ]
  }
 ],
 "metadata": {
  "kernelspec": {
   "display_name": "Python 3",
   "language": "python",
   "name": "python3"
  },
  "language_info": {
   "codemirror_mode": {
    "name": "ipython",
    "version": 3
   },
   "file_extension": ".py",
   "mimetype": "text/x-python",
   "name": "python",
   "nbconvert_exporter": "python",
   "pygments_lexer": "ipython3",
   "version": "3.9.7"
  },
  "orig_nbformat": 4,
  "vscode": {
   "interpreter": {
    "hash": "52634da84371cba311ea128a5ea7cdc41ff074b781779e754b270ff9f8153cee"
   }
  }
 },
 "nbformat": 4,
 "nbformat_minor": 2
}
