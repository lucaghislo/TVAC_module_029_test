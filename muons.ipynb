{
 "cells": [
  {
   "cell_type": "code",
   "execution_count": 4,
   "metadata": {},
   "outputs": [],
   "source": [
    "import pandas as pd\n",
    "import numpy as np\n",
    "import matplotlib.pyplot as plt\n",
    "from os.path import join\n",
    "\n",
    "from write_read_cache import store_data, read_data\n",
    "from read_events import read_events, get_events\n",
    "\n",
    "cache_folder = \"cache/muons\"\n"
   ]
  },
  {
   "cell_type": "code",
   "execution_count": 15,
   "metadata": {},
   "outputs": [
    {
     "name": "stdout",
     "output_type": "stream",
     "text": [
      "         Events in file:  5859\n",
      "            Real events:  5855\n",
      " All negative saturated:  0\n",
      "Some negative saturated:  1536\n",
      " All positive saturated:  0\n",
      "Some positive saturated:  0\n",
      "               Selected:  4319\n",
      "         Events in file:  9938\n",
      "            Real events:  9932\n",
      " All negative saturated:  0\n",
      "Some negative saturated:  2476\n",
      " All positive saturated:  0\n",
      "Some positive saturated:  0\n",
      "               Selected:  7456\n",
      "         Events in file:  5663\n",
      "            Real events:  5656\n",
      " All negative saturated:  0\n",
      "Some negative saturated:  1385\n",
      " All positive saturated:  0\n",
      "Some positive saturated:  0\n",
      "               Selected:  4271\n"
     ]
    }
   ],
   "source": [
    "# Import muon data\n",
    "\n",
    "# -40 C, 10 mbar\n",
    "events_m40_10mbar = read_events(\n",
    "    r\"C:\\Users\\ghisl\\Google Drive UniBG\\UniBG\\CORSI\\PhD\\GAPS\\INFN_Napoli\\TVAC_test\\GAPS_Test_CIRA\\muoni\\muoni_2_T_-40C_p_10_mbar.txt\",\n",
    "    2,\n",
    ")\n",
    "store_data(events_m40_10mbar, \"events_m40_10mbar\", cache_folder)\n",
    "\n",
    "# -40 C, 6 mbar\n",
    "events_m40_6mbar = read_events(\n",
    "    r\"C:\\Users\\ghisl\\Google Drive UniBG\\UniBG\\CORSI\\PhD\\GAPS\\INFN_Napoli\\TVAC_test\\GAPS_Test_CIRA\\muoni\\muoni_4_T_-40C_p_06_mbar.txt\",\n",
    "    2,\n",
    ")\n",
    "store_data(events_m40_6mbar, \"events_m40_6mbar\", cache_folder)\n",
    "\n",
    "# -40 C, 3 mbar\n",
    "events_m40_3mbar = read_events(\n",
    "    r\"C:\\Users\\ghisl\\Google Drive UniBG\\UniBG\\CORSI\\PhD\\GAPS\\INFN_Napoli\\TVAC_test\\GAPS_Test_CIRA\\muoni\\muoni_6_T_-40C_p_03_mbar.txt\",\n",
    "    2,\n",
    ")\n",
    "store_data(events_m40_3mbar, \"events_m40_3mbar\", cache_folder)\n",
    "\n",
    "# -50 C, 3 mbar\n",
    "events_m50_3mbar = read_events(\n",
    "    r\"C:\\Users\\ghisl\\Google Drive UniBG\\UniBG\\CORSI\\PhD\\GAPS\\INFN_Napoli\\TVAC_test\\GAPS_Test_CIRA\\muoni\\muoni_8_T_-50C_p_03_mbar.txt\",\n",
    "    2,\n",
    ")\n",
    "store_data(events_m50_3mbar, \"events_m50_3mbar\", cache_folder)\n",
    "\n",
    "# -50 C, 6 mbar\n",
    "events_m50_6mbar = read_events(\n",
    "    r\"C:\\Users\\ghisl\\Google Drive UniBG\\UniBG\\CORSI\\PhD\\GAPS\\INFN_Napoli\\TVAC_test\\GAPS_Test_CIRA\\muoni\\muoni_10_T_-50C_p_06_mbar.txt\",\n",
    "    2,\n",
    ")\n",
    "store_data(events_m50_6mbar, \"events_m50_6mbar\", cache_folder)\n",
    "\n",
    "# -50 C, 10 mbar\n",
    "events_m50_10mbar = read_events(\n",
    "    r\"C:\\Users\\ghisl\\Google Drive UniBG\\UniBG\\CORSI\\PhD\\GAPS\\INFN_Napoli\\TVAC_test\\GAPS_Test_CIRA\\muoni\\muoni_12_T_-50C_p_10_mbar.txt\",\n",
    "    2,\n",
    ")\n",
    "store_data(events_m50_10mbar, \"events_m50_10mbar\", cache_folder)\n",
    "\n",
    "# 0 C, 3 mbar\n",
    "events_0_3mbar = read_events(\n",
    "    r\"C:\\Users\\ghisl\\Google Drive UniBG\\UniBG\\CORSI\\PhD\\GAPS\\INFN_Napoli\\TVAC_test\\GAPS_Test_CIRA\\muoni\\muoni_15_T_0C_p_03_mbar.txt\",\n",
    "    2,\n",
    ")\n",
    "store_data(events_0_3mbar, \"events_0_3mbar\", cache_folder)\n"
   ]
  }
 ],
 "metadata": {
  "kernelspec": {
   "display_name": "Python 3",
   "language": "python",
   "name": "python3"
  },
  "language_info": {
   "codemirror_mode": {
    "name": "ipython",
    "version": 3
   },
   "file_extension": ".py",
   "mimetype": "text/x-python",
   "name": "python",
   "nbconvert_exporter": "python",
   "pygments_lexer": "ipython3",
   "version": "3.9.7"
  },
  "orig_nbformat": 4,
  "vscode": {
   "interpreter": {
    "hash": "52634da84371cba311ea128a5ea7cdc41ff074b781779e754b270ff9f8153cee"
   }
  }
 },
 "nbformat": 4,
 "nbformat_minor": 2
}
